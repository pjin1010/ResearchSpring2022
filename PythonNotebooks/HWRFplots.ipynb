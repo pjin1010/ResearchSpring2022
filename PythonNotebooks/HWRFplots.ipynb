{
 "cells": [
  {
   "cell_type": "code",
   "execution_count": 1,
   "id": "d7746867",
   "metadata": {},
   "outputs": [],
   "source": [
    "import numpy as np\n",
    "import xarray as xr\n",
    "import pandas as pd\n",
    "\n",
    "from matplotlib import pyplot as plt\n",
    "%config InlineBackend.figure_format = 'retina'\n",
    "%matplotlib inline\n",
    "from scipy.interpolate import NearestNDInterpolator"
   ]
  },
  {
   "cell_type": "markdown",
   "id": "7d78b1e1",
   "metadata": {},
   "source": [
    "# Creating HWRF Plots\n",
    "---\n",
    "## 1. Get Paths \n",
    "- 1.1 Define relevant paths\n",
    "- 1.2 Define getTime() for future convenience\n",
    "- 1.3 Define a .tpc file reader to find lat,lon of center of given storm at given hour"
   ]
  },
  {
   "cell_type": "markdown",
   "id": "e065d43c",
   "metadata": {},
   "source": [
    "#### 1.1 Define relevant paths"
   ]
  },
  {
   "cell_type": "code",
   "execution_count": 2,
   "id": "af2f9b1d",
   "metadata": {},
   "outputs": [],
   "source": [
    "#get paths; for nc paths, omit the last .f___.nc\n",
    "ncPath1 = '/data2/qy2216/HWRF_wind/hwrf.2021072718/nepartak11w/nc/nepartak11w.2021072718'\n",
    "tpcPath1 = '/data2/qy2216/HWRF_wind/hwrf.2021072718/nepartak11w/track/NEPARTAK11W.2021072718.stats.tpc'\n",
    "\n",
    "ncPath2 = '/data2/qy2216/HWRF_wind/hwrf.2021102118/invest92e/nc/invest92e.2021102118'\n",
    "tpcPath2 = '/data2/qy2216/HWRF_wind/hwrf.2021102118/invest92e/track/INVEST92E.2021102118.stats.tpc'\n",
    "\n",
    "ncPath3 = '/data2/qy2216/HWRF_wind/hwrf.2021073006/invest90e/nc/invest90e.2021073006'\n",
    "tpcPath3 = '/data2/qy2216/HWRF_wind/hwrf.2021073006/invest90e/track/INVEST90E.2021073006.stats.tpc'"
   ]
  },
  {
   "cell_type": "markdown",
   "id": "96024567",
   "metadata": {},
   "source": [
    "#### 1.2 Define getTime() for future convenience"
   ]
  },
  {
   "cell_type": "code",
   "execution_count": 3,
   "id": "8ec5b950",
   "metadata": {},
   "outputs": [],
   "source": [
    "def getTime(ncPath):\n",
    "    return ncPath[-10:]\n",
    "\n",
    "time1 = getTime(ncPath1)\n",
    "time2 = getTime(ncPath2)\n",
    "time3 = getTime(ncPath3)\n",
    "\n",
    "#define start and end hours of data\n",
    "startHour = 0\n",
    "endHour = 33\n",
    "stepHour = 3\n",
    "numData = (endHour-startHour)//stepHour"
   ]
  },
  {
   "cell_type": "markdown",
   "id": "10957184",
   "metadata": {},
   "source": [
    "#### 1.3 Define a .tpc file reader to find lat,lon of center of given storm at given hour"
   ]
  },
  {
   "cell_type": "code",
   "execution_count": 4,
   "id": "12e8dac8",
   "metadata": {},
   "outputs": [],
   "source": [
    "#read .tpc files\n",
    "colspecs = [(5, 10), (18, 25), (32, 38), (56, 63), (89, 95)]\n",
    "\n",
    "def readTPC(tpc):\n",
    "    colspecs = [(5, 10), (18, 25), (32, 38), (56, 63), (89, 95)]\n",
    "    df = pd.read_fwf(tpc, colspecs=colspecs, header=None, skiprows=12, names=['hour', 'lon', 'lat', 'P', 'V'])\n",
    "    df = df[:df.loc[df['hour'] == 'ORECA'].index[0]] #find where the df ends (based on \"FORECAST\" which is written directly after the last line of each .tpc df)\n",
    "    df['hour'] = df['hour'].astype(float)\n",
    "    df['lat'] = df['lat'].astype(float)\n",
    "    df['lon'] = df['lon'].astype(float)\n",
    "    return df"
   ]
  },
  {
   "cell_type": "markdown",
   "id": "73beab01",
   "metadata": {},
   "source": [
    "---\n",
    "## 2. Create Polar Plots for each Hour of Storm \n",
    "- 2.1 Create Polar Grid\n",
    "- 2.2 Define function to interpolate onto polar grid\n",
    "    - Center the data with data from .tpc file (1)\n",
    "    - Use NearestNDInterpolator to interpolate onto Polar Grid\n",
    "- 2.3 Loop Over Datasets to Prepare and Plot Data"
   ]
  },
  {
   "cell_type": "markdown",
   "id": "8449f140",
   "metadata": {},
   "source": [
    "#### 2.1 Create Polar Grid"
   ]
  },
  {
   "cell_type": "code",
   "execution_count": 5,
   "id": "1eaf3a19",
   "metadata": {},
   "outputs": [],
   "source": [
    "#create polar grid\n",
    "ntheta_pts = 201\n",
    "nr_pts = 200\n",
    "rmax = 300\n",
    "\n",
    "#FIX rmax name\n",
    "r1 = np.linspace(0, rmax, nr_pts)\n",
    "theta1 = np.linspace(-np.pi, np.pi, ntheta_pts)\n",
    "\n",
    "theta2, r2 = np.meshgrid(theta1, r1)\n",
    "\n",
    "# cartesian coordinates (in km) of the polar coordinates\n",
    "polar_x2 = r2 * np.cos(theta2)\n",
    "polar_y2 = r2 * np.sin(theta2)"
   ]
  },
  {
   "cell_type": "markdown",
   "id": "8e7b5fa8",
   "metadata": {},
   "source": [
    "#### 2.2 Define function to interpolate"
   ]
  },
  {
   "cell_type": "code",
   "execution_count": 6,
   "id": "ce8308db",
   "metadata": {},
   "outputs": [],
   "source": [
    "#Create Interpolate Function\n",
    "\n",
    "def makeInterpPolar(dsi, i, tpcPath, gridx = polar_x2, gridy = polar_y2):\n",
    "    zi = dsi.APCP_surface.isel(time=0).values\n",
    "    loni = dsi.longitude.values\n",
    "    lati = dsi.latitude.values\n",
    "    df = readTPC(tpcPath)\n",
    "    xcenteri = df[df.hour == i].lon.values[0]\n",
    "    ycenteri = df[df.hour == i].lat.values[0]\n",
    "    xi1 = (loni - xcenteri)*np.cos(np.deg2rad(ycenteri))*110.567\n",
    "    yi1 = (lati - ycenteri)*110.567\n",
    "    xi2,yi2 = np.meshgrid(xi1,yi1)\n",
    "    # number of points X 2 matrix of x y\n",
    "    xyi = np.stack((xi2.flatten(), yi2.flatten())).T\n",
    "\n",
    "    interpi = NearestNDInterpolator(xyi, zi.flatten())\n",
    "    Zi = interpi(gridx, gridy)\n",
    "    return Zi"
   ]
  },
  {
   "cell_type": "markdown",
   "id": "53f68b96",
   "metadata": {},
   "source": [
    "#### 2.3 Loop Over Datasets to Prepare and Plot Data"
   ]
  },
  {
   "cell_type": "code",
   "execution_count": 7,
   "id": "2a42a8bf",
   "metadata": {},
   "outputs": [],
   "source": [
    "def plotPolar(t,Z,hour):\n",
    "    plt.figure()\n",
    "    plt.subplot(projection=\"polar\")\n",
    "    plt.pcolormesh(theta1, r1, Z, shading='gouraud')\n",
    "    plt.plot(0, 0, 'rx', label='center')\n",
    "    plt.title(str(t) + \": Hour \" + hour)\n",
    "    plt.legend()"
   ]
  },
  {
   "cell_type": "code",
   "execution_count": 8,
   "id": "cbee83b6",
   "metadata": {},
   "outputs": [],
   "source": [
    "#Loop and plot multiple hours of the storm\n",
    "\n",
    "def plotMultiplePolar(t,ncPath,tpcPath):\n",
    "    for i,j in enumerate(range(startHour,endHour,stepHour)):\n",
    "        #print('%03d' % i)\n",
    "        hour = '%03d' % j\n",
    "        ds = xr.open_dataset(ncPath+'.f'+hour+'.nc')\n",
    "        Z = makeInterpPolar(ds, j, tpcPath)\n",
    "        plotPolar(t,Z,hour)"
   ]
  },
  {
   "cell_type": "code",
   "execution_count": null,
   "id": "0e02d853",
   "metadata": {},
   "outputs": [
    {
     "data": {
      "image/png": "[encoded data removed]",
      "text/plain": [
       "<Figure size 432x288 with 1 Axes>"
      ]
     },
     "metadata": {
      "image/png": {
       "height": 276,
       "width": 277
      },
      "needs_background": "light"
     },
     "output_type": "display_data"
    }
   ],
   "source": [
    "plotMultiplePolar(time1,ncPath1,tpcPath1)\n",
    "plt.gca().set_aspect('equal')\n",
    "plt.show()"
   ]
  },
  {
   "cell_type": "markdown",
   "id": "19bcb12f",
   "metadata": {},
   "source": [
    "---\n",
    "## 3. Superimposed Plot of Centered Data\n",
    "- 3.1 Define function to calculate cumulative centered data\n",
    "    - Make array containing the datasets from startHour to endHour\n",
    "    - Use np.sum() to find total rainfall\n",
    "- 3.2 Create plot for cumulative (superimposed) centered data\n",
    "- 3.3 Create plot for mean rainfall rates (mrr) (figure 11 of 2004 Lonfat et al.) -- as a function of storm intensity (V)\n",
    "    - 3.3.1 Sort data into respective intensities\n",
    "    - 3.3.2 If we have storm data in a given intensity, plot mrr for the given intensity"
   ]
  },
  {
   "cell_type": "markdown",
   "id": "e5f25e8b",
   "metadata": {},
   "source": [
    "#### 3.1 Define function to calculate cumulative centered data"
   ]
  },
  {
   "cell_type": "code",
   "execution_count": null,
   "id": "53ee5497",
   "metadata": {},
   "outputs": [],
   "source": [
    "#make array containing the datasets from startHour to endHour\n",
    "\n",
    "def findTotalCenteredPolar(t,ncPath,tpcPath):\n",
    "    dataarray = np.zeros(numData, dtype=np.ndarray)\n",
    "    for i,j in enumerate(range(startHour,endHour,stepHour)):\n",
    "        hour = '%03d' % j  \n",
    "        ds = xr.open_dataset(ncPath+'.f'+ hour+'.nc')\n",
    "        dataarray[i] = makeInterpPolar(ds, j, tpcPath) \n",
    "\n",
    "    #find total rainfall\n",
    "    centeredCum = np.sum(dataarray, axis=0)\n",
    "    return dataarray, centeredCum"
   ]
  },
  {
   "cell_type": "markdown",
   "id": "a29c4618",
   "metadata": {},
   "source": [
    "#### 3.2 Create plot for cumulative (superimposed) centered data"
   ]
  },
  {
   "cell_type": "code",
   "execution_count": null,
   "id": "3057b53b",
   "metadata": {},
   "outputs": [],
   "source": [
    "def plotTotalCenteredPolar(t,centeredCum):\n",
    "    #Plot total rainfall\n",
    "    plt.figure()\n",
    "    plt.subplot(projection=\"polar\")\n",
    "    plt.pcolormesh(theta1, r1, centeredCum, shading='gouraud')\n",
    "    plt.plot(0, 0, 'rx', label='center')\n",
    "    plt.title(\"Superimposed Centered Data: \" + str(t))\n",
    "    plt.legend()\n",
    "\n",
    "    plt.gca().set_aspect('equal')\n",
    "    plt.show()"
   ]
  },
  {
   "cell_type": "code",
   "execution_count": null,
   "id": "0f8b9de1",
   "metadata": {},
   "outputs": [],
   "source": [
    "centeredCum1 = findTotalCenteredPolar(time1,ncPath1,tpcPath1)[1]\n",
    "plotTotalCenteredPolar(time1,centeredCum1)\n",
    "\n",
    "centeredCum2 = findTotalCenteredPolar(time2,ncPath2,tpcPath2)[1]\n",
    "plotTotalCenteredPolar(time2,centeredCum2)\n",
    "\n",
    "centeredCum3 = findTotalCenteredPolar(time3,ncPath3,tpcPath3)[1]\n",
    "plotTotalCenteredPolar(time3,centeredCum3)"
   ]
  },
  {
   "cell_type": "markdown",
   "id": "7e502f7e",
   "metadata": {},
   "source": [
    "#### 3.3 Create plot for mean rainfall rates (figure 11 of 2004 Lonfat et al.)\n",
    "- Plot mean rainfall rates (mrr) as a function of storm intensity (V)\n",
    "    - 3.3.1 Sort data into respective intensities\n",
    "    - 3.3.2 If we have storm data in a given intensity, plot mrr for the given intensity"
   ]
  },
  {
   "cell_type": "markdown",
   "id": "ac78ca38",
   "metadata": {},
   "source": [
    "###### 3.3.1 Sort data by storm intensity and create respective arrays containing cumulative data"
   ]
  },
  {
   "cell_type": "code",
   "execution_count": null,
   "id": "fda88ff3",
   "metadata": {},
   "outputs": [],
   "source": [
    "#returns lists with indices of the hours during which the storm is a particular category\n",
    "def sortIntensity(tpcPath):\n",
    "    df = readTPC(tpcPath)\n",
    "    intensity = df.V\n",
    "    TS = []\n",
    "    CAT12 = []\n",
    "    CAT35 = []\n",
    "    for i,j in enumerate(df.V[0:numData]):\n",
    "        if (j>=18 and j<34):\n",
    "            TS.append(i)\n",
    "        if (j>=34 and j<49):\n",
    "            CAT12.append(i)\n",
    "        if (j>=49):\n",
    "            CAT35.append(i)\n",
    "    return TS,CAT12,CAT35"
   ]
  },
  {
   "cell_type": "code",
   "execution_count": null,
   "id": "4a78cbbf",
   "metadata": {},
   "outputs": [],
   "source": [
    "def findTotalCenteredPolarSorted(t,ncPath,tpcPath):\n",
    "    tsi, cat12i, cat35i = sortIntensity(tpcPath)\n",
    "    TSdata = np.zeros(len(tsi), dtype=np.ndarray)\n",
    "    cat12data = np.zeros(len(cat12i), dtype=np.ndarray)\n",
    "    cat35data = np.zeros(len(cat35i), dtype=np.ndarray)\n",
    "    tscounter = 0 \n",
    "    cat12counter = 0\n",
    "    cat35counter = 0\n",
    "    for i,j in enumerate(range(startHour,endHour,stepHour)):\n",
    "        hour = '%03d' % j  \n",
    "        ds = xr.open_dataset(ncPath+'.f'+ hour+'.nc')\n",
    "        if i in tsi:\n",
    "            TSdata[tscounter] = makeInterpPolar(ds, j, tpcPath) \n",
    "            tscounter += 1\n",
    "        if i in cat12i:\n",
    "            cat12data[cat12counter] = makeInterpPolar(ds, j, tpcPath) \n",
    "            cat12counter += 1\n",
    "        if i in cat35i:\n",
    "            cat35data[cat35counter] = makeInterpPolar(ds, j, tpcPath)\n",
    "            cat35counter += 1\n",
    "\n",
    "    centeredCumTs = np.sum(TSdata, axis=0)\n",
    "    centeredCumCat12 = np.sum(cat12data, axis=0)\n",
    "    centeredCumCat35 = np.sum(cat35data, axis=0)\n",
    "    return [centeredCumTs,len(tsi)], [centeredCumCat12,len(cat12i)], [centeredCumCat35,len(cat35i)]"
   ]
  },
  {
   "cell_type": "markdown",
   "id": "939a57be",
   "metadata": {},
   "source": [
    "###### 3.3.2 Plot mrr for cumulative + given storm intensities"
   ]
  },
  {
   "cell_type": "code",
   "execution_count": null,
   "id": "91ca6b4a",
   "metadata": {},
   "outputs": [],
   "source": [
    "def plotMeanRainfallRateV(t,ds,ts,cat12,cat35):\n",
    "    meanRainfall = np.mean(ds, axis=1)/numData\n",
    "    plt.figure()\n",
    "    plt.scatter(r1,meanRainfall,s=3, label = \"Cumulative: \" + str(t))\n",
    "    \n",
    "    if isinstance(ts[0],np.ndarray):\n",
    "        meanRainfallTs = np.mean(ts[0], axis=1)/ts[1]\n",
    "        plt.scatter(r1,meanRainfallTs,s=3, label = \"TS\")\n",
    "    if isinstance(cat12[0],np.ndarray):\n",
    "        meanRainfallcat12 = np.mean(cat12[0], axis=1)/cat12[1]\n",
    "        plt.scatter(r1,meanRainfallcat12,s=3, label = \"CAT12\")\n",
    "    if isinstance(cat35[0],np.ndarray):\n",
    "        meanRainfallcat35 = np.mean(cat35[0], axis=1)/cat35[1]\n",
    "        plt.scatter(r1,meanRainfallcat35,s=3, label = \"CAT35\")\n",
    "    \n",
    "    plt.xlabel(\"Radial Distance (km)\")\n",
    "    plt.ylabel(\"Mean Rain Rate (mmh^-1)\")\n",
    "    plt.legend()\n",
    "    plt.show()"
   ]
  },
  {
   "cell_type": "code",
   "execution_count": null,
   "id": "6919a2ca",
   "metadata": {},
   "outputs": [],
   "source": [
    "Ts1,Cat121,Cat351 = findTotalCenteredPolarSorted(time1,ncPath1,tpcPath1)\n",
    "Ts2,Cat122,Cat352 = findTotalCenteredPolarSorted(time2,ncPath2,tpcPath2)\n",
    "Ts3,Cat123,Cat353 = findTotalCenteredPolarSorted(time3,ncPath3,tpcPath3)\n",
    "\n",
    "plotMeanRainfallRateV(time1, centeredCum1, Ts1, Cat121, Cat351)\n",
    "plotMeanRainfallRateV(time2, centeredCum2, Ts2, Cat122, Cat352)\n",
    "plotMeanRainfallRateV(time3, centeredCum3, Ts3, Cat123, Cat353)\n",
    "#label name, time, intensity (in tpc file) of storms "
   ]
  },
  {
   "cell_type": "markdown",
   "id": "e210cbf8",
   "metadata": {},
   "source": [
    "---\n",
    "## 4. Superimposed Plot of Moving Center Data\n",
    "- 4.1 Define function to find corners (extrema) of given datasets of a storm\n",
    "- 4.2 Define function to create  cartesian grid with the corners found in 4.1\n",
    "- 4.3 Define function to interpolate onto cartesian grid\n",
    "- 4.4 Define function to calculate cumulative moving center data\n",
    "    - Make array containing the datasets from startHour to endHour after being interpolated onto the cartesian grid from 4.2\n",
    "    - Use np.sum() to find total rainfall\n",
    "- 4.5 Create plot for cumulative (superimposed) moving center data"
   ]
  },
  {
   "cell_type": "markdown",
   "id": "18372f39",
   "metadata": {},
   "source": [
    "#### 4.1 Define function to find corners (extrema) of given datasets of a storm"
   ]
  },
  {
   "cell_type": "code",
   "execution_count": null,
   "id": "8fa0e066",
   "metadata": {},
   "outputs": [],
   "source": [
    "#find corners\n",
    "def findCorners(t,ncPath):\n",
    "    minx = np.inf\n",
    "    maxx = -np.inf\n",
    "    miny = np.inf\n",
    "    maxy = -np.inf\n",
    "    for i,j in enumerate(range(startHour,endHour,stepHour)):\n",
    "        hour = '%03d' % j  \n",
    "        ds = xr.open_dataset(ncPath+'.f'+ hour+'.nc')\n",
    "        if min(ds.longitude.values)<minx:\n",
    "            minx = min(ds.longitude.values)\n",
    "        if max(ds.longitude.values)>maxx:\n",
    "            maxx = max(ds.longitude.values)\n",
    "        if min(ds.latitude.values)<miny:\n",
    "            miny = min(ds.latitude.values)\n",
    "        if max(ds.latitude.values)>maxy:\n",
    "            maxy = max(ds.latitude.values)\n",
    "    return minx,maxx,miny,maxy\n",
    "\n",
    "#print(findCorners(time1,ncPath1))"
   ]
  },
  {
   "cell_type": "markdown",
   "id": "717f41d3",
   "metadata": {},
   "source": [
    "#### 4.2 Define function to create cartesian grid with the corners found in 4.1"
   ]
  },
  {
   "cell_type": "code",
   "execution_count": null,
   "id": "434d1ae1",
   "metadata": {},
   "outputs": [],
   "source": [
    "#create cartesian grid\n",
    "nx_pts = 300\n",
    "ny_pts = 300\n",
    "\n",
    "def createCartGrid(t,ncPath):\n",
    "    corners = findCorners(t,ncPath)\n",
    "    x1 = np.linspace(corners[0], corners[1], nx_pts)\n",
    "    y1 = np.linspace(corners[2], corners[3], ny_pts)\n",
    "\n",
    "    x2, y2 = np.meshgrid(x1, y1)\n",
    "    return x1,y1,x2,y2"
   ]
  },
  {
   "cell_type": "markdown",
   "id": "147bf133",
   "metadata": {},
   "source": [
    "#### 4.2 Define function to interpolate onto cartesian grid"
   ]
  },
  {
   "cell_type": "code",
   "execution_count": null,
   "id": "ca19e31f",
   "metadata": {},
   "outputs": [],
   "source": [
    "def makeInterpCart(dsi, i, tpcPath, gridx, gridy):\n",
    "    zi = dsi.APCP_surface.isel(time=0).values\n",
    "    loni = dsi.longitude.values\n",
    "    lati = dsi.latitude.values\n",
    "\n",
    "    xi2,yi2 = np.meshgrid(loni,lati)\n",
    "    # number of points X 2 matrix of x y\n",
    "    xyi = np.stack((xi2.flatten(), yi2.flatten())).T\n",
    "\n",
    "    interpi = NearestNDInterpolator(xyi, zi.flatten())\n",
    "    Zi = interpi(gridx, gridy)\n",
    "    return Zi"
   ]
  },
  {
   "cell_type": "markdown",
   "id": "d11284af",
   "metadata": {},
   "source": [
    "#### 4.3 Define function to calculate cumulative moving center data"
   ]
  },
  {
   "cell_type": "code",
   "execution_count": null,
   "id": "8c5e5e0a",
   "metadata": {},
   "outputs": [],
   "source": [
    "def findTotalMovingCenter(t,ncPath,tpcPath):\n",
    "    dataarray = np.zeros(numData, dtype=np.ndarray)\n",
    "    for i,j in enumerate(range(startHour,endHour,stepHour)):\n",
    "        hour = '%03d' % j  \n",
    "        ds = xr.open_dataset(ncPath+'.f'+ hour+'.nc')\n",
    "        x2,y2 = createCartGrid(t,ncPath)[2:]\n",
    "        dataarray[i] = makeInterpCart(ds, j, tpcPath, x2, y2)\n",
    "\n",
    "    #find total rainfall\n",
    "    cum = np.sum(dataarray, axis=0)\n",
    "    return dataarray, cum"
   ]
  },
  {
   "cell_type": "markdown",
   "id": "c7efe1b4",
   "metadata": {},
   "source": [
    "#### 4.4 Create plot for cumulative (superimposed) moving center data"
   ]
  },
  {
   "cell_type": "code",
   "execution_count": null,
   "id": "c90fbb24",
   "metadata": {},
   "outputs": [],
   "source": [
    "def plotTotalMovingCenter(t,ncPath,cum):\n",
    "    #Plot total rainfall\n",
    "    plt.figure()\n",
    "    grid = createCartGrid(t,ncPath)\n",
    "    plt.pcolormesh(grid[0], grid[1], cum, shading='gouraud')\n",
    "    plt.title(\"Superimposed Centered Data: \" + str(t))\n",
    "\n",
    "    plt.gca().set_aspect('equal')\n",
    "    plt.show()"
   ]
  },
  {
   "cell_type": "code",
   "execution_count": null,
   "id": "af3924a9",
   "metadata": {},
   "outputs": [],
   "source": [
    "cum1 = findTotalMovingCenter(time1,ncPath1,tpcPath1)[1]\n",
    "plotTotalMovingCenter(time1,ncPath1,cum1)\n",
    "cum2 = findTotalMovingCenter(time2,ncPath2,tpcPath2)[1]\n",
    "plotTotalMovingCenter(time2,ncPath2,cum2)\n",
    "cum3 = findTotalMovingCenter(time3,ncPath3,tpcPath3)[1]\n",
    "plotTotalMovingCenter(time3,ncPath3,cum3)"
   ]
  },
  {
   "cell_type": "markdown",
   "id": "f5f477c4",
   "metadata": {},
   "source": [
    "---\n",
    "## 5. Considering Different Forecasts of a Storm"
   ]
  },
  {
   "cell_type": "code",
   "execution_count": null,
   "id": "ead38753",
   "metadata": {},
   "outputs": [],
   "source": [
    "#path2,path4,path5 are for invest92e\n",
    "ncPath4 = '/data2/qy2216/HWRF_wind/hwrf.2021102200/invest92e/nc/invest92e.2021102200'\n",
    "tpcPath4 = '/data2/qy2216/HWRF_wind/hwrf.2021102200/invest92e/track/INVEST92E.2021102200.stats.tpc'\n",
    "\n",
    "ncPath5 = '/data2/qy2216/HWRF_wind/hwrf.2021102206/invest92e/nc/invest92e.2021102206'\n",
    "tpcPath5 = '/data2/qy2216/HWRF_wind/hwrf.2021102206/invest92e/track/INVEST92E.2021102206.stats.tpc'"
   ]
  },
  {
   "cell_type": "code",
   "execution_count": null,
   "id": "e358a581",
   "metadata": {},
   "outputs": [],
   "source": [
    "time4 = getTime(ncPath4)\n",
    "time5 = getTime(ncPath5)"
   ]
  },
  {
   "cell_type": "code",
   "execution_count": null,
   "id": "eeaf9663",
   "metadata": {},
   "outputs": [],
   "source": [
    "plotTotalCenteredPolar(time2,centeredCum2)\n",
    "\n",
    "centeredCum4 = findTotalCenteredPolar(time4,ncPath4,tpcPath4)[1]\n",
    "plotTotalCenteredPolar(time4,centeredCum4)\n",
    "\n",
    "centeredCum5 = findTotalCenteredPolar(time5,ncPath5,tpcPath5)[1]\n",
    "plotTotalCenteredPolar(time5,centeredCum5)"
   ]
  },
  {
   "cell_type": "code",
   "execution_count": null,
   "id": "9ffba449",
   "metadata": {},
   "outputs": [],
   "source": []
  }
 ],
 "metadata": {
  "kernelspec": {
   "display_name": "Python 3",
   "language": "python",
   "name": "python3"
  },
  "language_info": {
   "codemirror_mode": {
    "name": "ipython",
    "version": 3
   },
   "file_extension": ".py",
   "mimetype": "text/x-python",
   "name": "python",
   "nbconvert_exporter": "python",
   "pygments_lexer": "ipython3",
   "version": "3.6.13"
  }
 },
 "nbformat": 4,
 "nbformat_minor": 5
}
